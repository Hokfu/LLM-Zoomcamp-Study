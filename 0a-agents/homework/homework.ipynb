{
 "cells": [
  {
   "cell_type": "code",
   "execution_count": 1,
   "id": "a41509d5",
   "metadata": {},
   "outputs": [],
   "source": [
    "import random\n",
    "\n",
    "known_weather_data = {\"berlin\": 20.0}\n",
    "\n",
    "\n",
    "def get_weather(city: str) -> float:\n",
    "    city = city.strip().lower()\n",
    "\n",
    "    if city in known_weather_data:\n",
    "        return known_weather_data[city]\n",
    "\n",
    "    return round(random.uniform(-5, 35), 1)\n"
   ]
  },
  {
   "cell_type": "code",
   "execution_count": 2,
   "id": "84c98f53",
   "metadata": {},
   "outputs": [],
   "source": [
    "get_weather_tool = {\n",
    "    \"type\": \"function\",\n",
    "    \"name\": \"get_weather\",\n",
    "    \"description\": \"Get the weather of a city\",\n",
    "    \"parameters\": {\n",
    "        \"type\": \"object\",\n",
    "        \"properties\": {\n",
    "            \"city\": {\n",
    "                \"type\": \"string\",\n",
    "                \"description\": \"a city in the mentioned country or mentioned city name\",\n",
    "            }\n",
    "        },\n",
    "        \"required\": [\"city\"],\n",
    "        \"additionalProperties\": False,\n",
    "    },\n",
    "}"
   ]
  },
  {
   "cell_type": "code",
   "execution_count": 3,
   "id": "ffd8f602",
   "metadata": {},
   "outputs": [],
   "source": [
    "import json\n",
    "from openai import OpenAI\n",
    "from IPython.display import display, HTML\n",
    "import markdown\n",
    "\n",
    "\n",
    "class Tools:\n",
    "    def __init__(self):\n",
    "        self.tools = {}\n",
    "        self.functions = {}\n",
    "\n",
    "    def add_tool(self, function, description):\n",
    "        self.tools[function.__name__] = description\n",
    "        self.functions[function.__name__] = function\n",
    "\n",
    "    def get_tools(self):\n",
    "        return list(self.tools.values())\n",
    "\n",
    "    def function_call(self, tool_call_response):\n",
    "        function_name = tool_call_response.name\n",
    "        arguments = json.loads(tool_call_response.arguments)\n",
    "\n",
    "        f = self.functions[function_name]\n",
    "        result = f(**arguments)\n",
    "\n",
    "        return {\n",
    "            \"type\": \"function_call_output\",\n",
    "            \"call_id\": tool_call_response.call_id,\n",
    "            \"output\": json.dumps(result, indent=2),\n",
    "        }\n",
    "\n",
    "\n",
    "def shorten(text, max_length=50):\n",
    "    if len(text) <= max_length:\n",
    "        return text\n",
    "\n",
    "    return text[: max_length - 3] + \"...\"\n",
    "\n",
    "\n",
    "class ChatInterface:\n",
    "    def input(self):\n",
    "        question = input(\"You:\")\n",
    "        return question\n",
    "\n",
    "    def display(self, message):\n",
    "        print(message)\n",
    "\n",
    "    def display_function_call(self, entry, result):\n",
    "        call_html = f\"\"\"\n",
    "            <details>\n",
    "            <summary>Function call: <tt>{entry.name}({shorten(entry.arguments)})</tt></summary>\n",
    "            <div>\n",
    "                <b>Call</b>\n",
    "                <pre>{entry}</pre>\n",
    "            </div>\n",
    "            <div>\n",
    "                <b>Output</b>\n",
    "                <pre>{result[\"output\"]}</pre>\n",
    "            </div>\n",
    "            \n",
    "            </details>\n",
    "        \"\"\"\n",
    "        display(HTML(call_html))\n",
    "\n",
    "    def display_response(self, entry):\n",
    "        response_html = markdown.markdown(entry.content[0].text)\n",
    "        html = f\"\"\"\n",
    "            <div>\n",
    "                <div><b>Assistant:</b></div>\n",
    "                <div>{response_html}</div>\n",
    "            </div>\n",
    "        \"\"\"\n",
    "        display(HTML(html))\n",
    "\n",
    "\n",
    "class ChatAssistant:\n",
    "    def __init__(self, tools, developer_prompt, chat_interface, client):\n",
    "        self.tools = tools\n",
    "        self.developer_prompt = developer_prompt\n",
    "        self.chat_interface = chat_interface\n",
    "        self.client = client\n",
    "\n",
    "    def gpt(self, chat_messages):\n",
    "        return self.client.responses.create(\n",
    "            model=\"gpt-4o-mini\",\n",
    "            input=chat_messages,\n",
    "            tools=self.tools.get_tools(),\n",
    "        )\n",
    "\n",
    "    def run(self):\n",
    "        chat_messages = [\n",
    "            {\"role\": \"developer\", \"content\": self.developer_prompt},\n",
    "        ]\n",
    "\n",
    "        # Chat loop\n",
    "        while True:\n",
    "            question = self.chat_interface.input()\n",
    "            if question.strip().lower() == \"stop\":\n",
    "                self.chat_interface.display(\"Chat ended.\")\n",
    "                break\n",
    "\n",
    "            message = {\"role\": \"user\", \"content\": question}\n",
    "            chat_messages.append(message)\n",
    "\n",
    "            while True:  # inner request loop\n",
    "                response = self.gpt(chat_messages)\n",
    "\n",
    "                has_messages = False\n",
    "\n",
    "                for entry in response.output:\n",
    "                    chat_messages.append(entry)\n",
    "\n",
    "                    if entry.type == \"function_call\":\n",
    "                        result = self.tools.function_call(entry)\n",
    "                        chat_messages.append(result)\n",
    "                        self.chat_interface.display_function_call(entry, result)\n",
    "\n",
    "                    elif entry.type == \"message\":\n",
    "                        self.chat_interface.display_response(entry)\n",
    "                        has_messages = True\n",
    "\n",
    "                if has_messages:\n",
    "                    break\n"
   ]
  },
  {
   "cell_type": "code",
   "execution_count": 7,
   "id": "4372a958",
   "metadata": {},
   "outputs": [],
   "source": [
    "tools = Tools()\n",
    "tools.add_tool(get_weather, get_weather_tool)\n",
    "\n",
    "chat_interface = ChatInterface()\n",
    "client = OpenAI()"
   ]
  },
  {
   "cell_type": "code",
   "execution_count": 10,
   "id": "7d97314a",
   "metadata": {},
   "outputs": [],
   "source": [
    "chat_assistant = ChatAssistant(\n",
    "    tools,\n",
    "    \"You are a helpful assistant that can get the weather of a city. If the user asks for the weather of a country, you should return the weather of the capital of the country.\",\n",
    "    chat_interface,\n",
    "    client,\n",
    ")"
   ]
  },
  {
   "cell_type": "code",
   "execution_count": 11,
   "id": "161b1026",
   "metadata": {},
   "outputs": [
    {
     "data": {
      "text/html": [
       "\n",
       "            <details>\n",
       "            <summary>Function call: <tt>get_weather({\"city\":\"Berlin\"})</tt></summary>\n",
       "            <div>\n",
       "                <b>Call</b>\n",
       "                <pre>ResponseFunctionToolCall(arguments='{\"city\":\"Berlin\"}', call_id='call_YCEpMIw0vh3jpICX0tAQDKp0', name='get_weather', type='function_call', id='fc_687725d2f8f48191b58471c1715ca3b0029a7b077c3134ba', status='completed')</pre>\n",
       "            </div>\n",
       "            <div>\n",
       "                <b>Output</b>\n",
       "                <pre>20.0</pre>\n",
       "            </div>\n",
       "\n",
       "            </details>\n",
       "        "
      ],
      "text/plain": [
       "<IPython.core.display.HTML object>"
      ]
     },
     "metadata": {},
     "output_type": "display_data"
    },
    {
     "data": {
      "text/html": [
       "\n",
       "            <div>\n",
       "                <div><b>Assistant:</b></div>\n",
       "                <div><p>The current weather in Berlin, Germany, is 20°C.</p></div>\n",
       "            </div>\n",
       "        "
      ],
      "text/plain": [
       "<IPython.core.display.HTML object>"
      ]
     },
     "metadata": {},
     "output_type": "display_data"
    },
    {
     "name": "stdout",
     "output_type": "stream",
     "text": [
      "Chat ended.\n"
     ]
    }
   ],
   "source": [
    "chat_assistant.run()"
   ]
  },
  {
   "cell_type": "code",
   "execution_count": 4,
   "id": "4c54ce9f",
   "metadata": {},
   "outputs": [],
   "source": [
    "def set_weather(city: str, temp: float) -> None:\n",
    "    city = city.strip().lower()\n",
    "    known_weather_data[city] = temp\n",
    "    return 'OK'\n",
    "\n",
    "set_weather_tool = {\n",
    "    \"type\": \"function\",\n",
    "    \"name\": \"set_weather\",\n",
    "    \"description\": \"Add weather data to our database\",\n",
    "    \"parameters\": {\n",
    "        \"type\": \"object\",\n",
    "        \"properties\": {\n",
    "            \"city\": {\n",
    "                \"type\": \"string\",\n",
    "                \"description\": \"a city in the mentioned country or mentioned city name\",\n",
    "            },\n",
    "            \"temp\": {\n",
    "                \"type\": \"number\",\n",
    "                \"description\": \"the temperature of the city\",\n",
    "            },\n",
    "        },\n",
    "        \"required\": [\"city\", \"temp\"],\n",
    "        \"additionalProperties\": False,\n",
    "    },\n",
    "}"
   ]
  },
  {
   "cell_type": "code",
   "execution_count": 5,
   "id": "fb1e921f",
   "metadata": {},
   "outputs": [],
   "source": [
    "tools = Tools()\n",
    "tools.add_tool(set_weather, set_weather_tool)\n",
    "tools.add_tool(get_weather, get_weather_tool)"
   ]
  },
  {
   "cell_type": "code",
   "execution_count": 6,
   "id": "c0f01b04",
   "metadata": {},
   "outputs": [
    {
     "data": {
      "text/plain": [
       "[{'type': 'function',\n",
       "  'name': 'set_weather',\n",
       "  'description': 'Add weather data to our database',\n",
       "  'parameters': {'type': 'object',\n",
       "   'properties': {'city': {'type': 'string',\n",
       "     'description': 'a city in the mentioned country or mentioned city name'},\n",
       "    'temp': {'type': 'number', 'description': 'the temperature of the city'}},\n",
       "   'required': ['city', 'temp'],\n",
       "   'additionalProperties': False}},\n",
       " {'type': 'function',\n",
       "  'name': 'get_weather',\n",
       "  'description': 'Get the weather of a city',\n",
       "  'parameters': {'type': 'object',\n",
       "   'properties': {'city': {'type': 'string',\n",
       "     'description': 'a city in the mentioned country or mentioned city name'}},\n",
       "   'required': ['city'],\n",
       "   'additionalProperties': False}}]"
      ]
     },
     "execution_count": 6,
     "metadata": {},
     "output_type": "execute_result"
    }
   ],
   "source": [
    "tools.get_tools()"
   ]
  },
  {
   "cell_type": "code",
   "execution_count": 7,
   "id": "8ea4f986",
   "metadata": {},
   "outputs": [],
   "source": [
    "chat_interface = ChatInterface()\n",
    "client = OpenAI()\n",
    "\n",
    "chat_assistant = ChatAssistant(\n",
    "    tools,\n",
    "    \"You are a helpful assistant that can get the weather of a city and set the weather of a city. If the user asks for the weather of a country, you should return the weather of the capital of the country.  \",\n",
    "    chat_interface,\n",
    "    client,\n",
    ")"
   ]
  },
  {
   "cell_type": "code",
   "execution_count": 8,
   "id": "b98c751c",
   "metadata": {},
   "outputs": [
    {
     "data": {
      "text/html": [
       "\n",
       "            <details>\n",
       "            <summary>Function call: <tt>get_weather({\"city\":\"Berlin\"})</tt></summary>\n",
       "            <div>\n",
       "                <b>Call</b>\n",
       "                <pre>ResponseFunctionToolCall(arguments='{\"city\":\"Berlin\"}', call_id='call_DmnMSLafgZVWe8kBpB88h6Lo', name='get_weather', type='function_call', id='fc_68774c79e93081a3931fe7c5225e69c4005e0726d723c82c', status='completed')</pre>\n",
       "            </div>\n",
       "            <div>\n",
       "                <b>Output</b>\n",
       "                <pre>20.0</pre>\n",
       "            </div>\n",
       "\n",
       "            </details>\n",
       "        "
      ],
      "text/plain": [
       "<IPython.core.display.HTML object>"
      ]
     },
     "metadata": {},
     "output_type": "display_data"
    },
    {
     "data": {
      "text/html": [
       "\n",
       "            <div>\n",
       "                <div><b>Assistant:</b></div>\n",
       "                <div><p>The weather in Berlin, Germany is 20°C.</p></div>\n",
       "            </div>\n",
       "        "
      ],
      "text/plain": [
       "<IPython.core.display.HTML object>"
      ]
     },
     "metadata": {},
     "output_type": "display_data"
    },
    {
     "data": {
      "text/html": [
       "\n",
       "            <details>\n",
       "            <summary>Function call: <tt>set_weather({\"city\":\"Berlin\",\"temp\":20})</tt></summary>\n",
       "            <div>\n",
       "                <b>Call</b>\n",
       "                <pre>ResponseFunctionToolCall(arguments='{\"city\":\"Berlin\",\"temp\":20}', call_id='call_sv4WCTznAmran9uIKERhRhwc', name='set_weather', type='function_call', id='fc_68774c822d1481a38cde1ce5a6f01985005e0726d723c82c', status='completed')</pre>\n",
       "            </div>\n",
       "            <div>\n",
       "                <b>Output</b>\n",
       "                <pre>\"OK\"</pre>\n",
       "            </div>\n",
       "\n",
       "            </details>\n",
       "        "
      ],
      "text/plain": [
       "<IPython.core.display.HTML object>"
      ]
     },
     "metadata": {},
     "output_type": "display_data"
    },
    {
     "data": {
      "text/html": [
       "\n",
       "            <div>\n",
       "                <div><b>Assistant:</b></div>\n",
       "                <div><p>The weather data for Berlin has been successfully added to the database.</p></div>\n",
       "            </div>\n",
       "        "
      ],
      "text/plain": [
       "<IPython.core.display.HTML object>"
      ]
     },
     "metadata": {},
     "output_type": "display_data"
    },
    {
     "name": "stdout",
     "output_type": "stream",
     "text": [
      "Chat ended.\n"
     ]
    }
   ],
   "source": [
    "chat_assistant.run()"
   ]
  }
 ],
 "metadata": {
  "kernelspec": {
   "display_name": ".venv",
   "language": "python",
   "name": "python3"
  },
  "language_info": {
   "codemirror_mode": {
    "name": "ipython",
    "version": 3
   },
   "file_extension": ".py",
   "mimetype": "text/x-python",
   "name": "python",
   "nbconvert_exporter": "python",
   "pygments_lexer": "ipython3",
   "version": "3.12.9"
  }
 },
 "nbformat": 4,
 "nbformat_minor": 5
}
